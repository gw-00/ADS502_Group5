{
 "cells": [
  {
   "cell_type": "markdown",
   "metadata": {},
   "source": [
    "# Group 5 Project ADS 502 Project\n",
    "Members: Maria Mora Mora, Tanya Ortega, Graham Ward\n",
    "\n",
    "Data set: HR Analytics, Predicting Data Science Job Change"
   ]
  },
  {
   "cell_type": "code",
   "execution_count": 11,
   "metadata": {},
   "outputs": [],
   "source": [
    "# Import libraries for the project\n",
    "import pandas as pd\n",
    "import numpy as np"
   ]
  },
  {
   "cell_type": "markdown",
   "metadata": {},
   "source": [
    "## Section 1: Data Importing and Pre-processing"
   ]
  },
  {
   "cell_type": "code",
   "execution_count": 12,
   "metadata": {},
   "outputs": [
    {
     "name": "stdout",
     "output_type": "stream",
     "text": [
      "   enrollee_id      city  city_development_index gender  \\\n",
      "0         8949  city_103                   0.920   Male   \n",
      "1        29725   city_40                   0.776   Male   \n",
      "2        11561   city_21                   0.624    NaN   \n",
      "3        33241  city_115                   0.789    NaN   \n",
      "4          666  city_162                   0.767   Male   \n",
      "\n",
      "       relevent_experience enrolled_university education_level  \\\n",
      "0  Has relevent experience       no_enrollment        Graduate   \n",
      "1   No relevent experience       no_enrollment        Graduate   \n",
      "2   No relevent experience    Full time course        Graduate   \n",
      "3   No relevent experience                 NaN        Graduate   \n",
      "4  Has relevent experience       no_enrollment         Masters   \n",
      "\n",
      "  major_discipline experience company_size    company_type last_new_job  \\\n",
      "0             STEM        >20          NaN             NaN            1   \n",
      "1             STEM         15        50-99         Pvt Ltd           >4   \n",
      "2             STEM          5          NaN             NaN        never   \n",
      "3  Business Degree         <1          NaN         Pvt Ltd        never   \n",
      "4             STEM        >20        50-99  Funded Startup            4   \n",
      "\n",
      "   training_hours  target  \n",
      "0              36     1.0  \n",
      "1              47     0.0  \n",
      "2              83     0.0  \n",
      "3              52     1.0  \n",
      "4               8     0.0  \n"
     ]
    }
   ],
   "source": [
    "# Importing the dataset\n",
    "df = pd.read_csv('aug_train.csv')\n",
    "aug_train = df.copy()\n",
    "\n",
    "print(aug_train.head())"
   ]
  },
  {
   "cell_type": "markdown",
   "metadata": {},
   "source": [
    "After printing the data frame head we will start the pre processing of the data and getting a feel for its shape."
   ]
  },
  {
   "cell_type": "code",
   "execution_count": 13,
   "metadata": {},
   "outputs": [
    {
     "name": "stdout",
     "output_type": "stream",
     "text": [
      "(19158, 14)\n"
     ]
    }
   ],
   "source": [
    "# Get the initial shape of the data frame\n",
    "print(aug_train.shape)"
   ]
  },
  {
   "cell_type": "code",
   "execution_count": 14,
   "metadata": {},
   "outputs": [
    {
     "name": "stdout",
     "output_type": "stream",
     "text": [
      "enrollee_id                 int64\n",
      "city                       object\n",
      "city_development_index    float64\n",
      "gender                     object\n",
      "relevent_experience        object\n",
      "enrolled_university        object\n",
      "education_level            object\n",
      "major_discipline           object\n",
      "experience                 object\n",
      "company_size               object\n",
      "company_type               object\n",
      "last_new_job               object\n",
      "training_hours              int64\n",
      "target                    float64\n",
      "dtype: object\n"
     ]
    }
   ],
   "source": [
    "# Get the data types of the columns\n",
    "print(aug_train.dtypes)"
   ]
  },
  {
   "cell_type": "code",
   "execution_count": 15,
   "metadata": {},
   "outputs": [
    {
     "name": "stdout",
     "output_type": "stream",
     "text": [
      "enrollee_id                  0\n",
      "city                         0\n",
      "city_development_index       0\n",
      "gender                    4508\n",
      "relevent_experience          0\n",
      "enrolled_university        386\n",
      "education_level            460\n",
      "major_discipline          2813\n",
      "experience                  65\n",
      "company_size              5938\n",
      "company_type              6140\n",
      "last_new_job               423\n",
      "training_hours               0\n",
      "target                       0\n",
      "dtype: int64\n"
     ]
    }
   ],
   "source": [
    "# Identifying the missing values\n",
    "print(aug_train.isnull().sum())"
   ]
  },
  {
   "cell_type": "code",
   "execution_count": 16,
   "metadata": {},
   "outputs": [
    {
     "name": "stdout",
     "output_type": "stream",
     "text": [
      "gender\n",
      "Male      13221\n",
      "Female     1238\n",
      "Other       191\n",
      "Name: count, dtype: int64 \n",
      "\n",
      "enrolled_university\n",
      "no_enrollment       13817\n",
      "Full time course     3757\n",
      "Part time course     1198\n",
      "Name: count, dtype: int64 \n",
      "\n",
      "education_level\n",
      "Graduate          11598\n",
      "Masters            4361\n",
      "High School        2017\n",
      "Phd                 414\n",
      "Primary School      308\n",
      "Name: count, dtype: int64 \n",
      "\n",
      "major_discipline\n",
      "STEM               14492\n",
      "Humanities           669\n",
      "Other                381\n",
      "Business Degree      327\n",
      "Arts                 253\n",
      "No Major             223\n",
      "Name: count, dtype: int64 \n",
      "\n",
      "experience\n",
      ">20    3286\n",
      "5      1430\n",
      "4      1403\n",
      "3      1354\n",
      "6      1216\n",
      "2      1127\n",
      "7      1028\n",
      "10      985\n",
      "9       980\n",
      "8       802\n",
      "15      686\n",
      "11      664\n",
      "14      586\n",
      "1       549\n",
      "<1      522\n",
      "16      508\n",
      "12      494\n",
      "13      399\n",
      "17      342\n",
      "19      304\n",
      "18      280\n",
      "20      148\n",
      "Name: count, dtype: int64 \n",
      "\n",
      "company_size\n",
      "50-99        3083\n",
      "100-500      2571\n",
      "10000+       2019\n",
      "10/49        1471\n",
      "1000-4999    1328\n",
      "<10          1308\n",
      "500-999       877\n",
      "5000-9999     563\n",
      "Name: count, dtype: int64 \n",
      "\n",
      "company_type\n",
      "Pvt Ltd                9817\n",
      "Funded Startup         1001\n",
      "Public Sector           955\n",
      "Early Stage Startup     603\n",
      "NGO                     521\n",
      "Other                   121\n",
      "Name: count, dtype: int64 \n",
      "\n",
      "last_new_job\n",
      "1        8040\n",
      ">4       3290\n",
      "2        2900\n",
      "never    2452\n",
      "4        1029\n",
      "3        1024\n",
      "Name: count, dtype: int64\n"
     ]
    }
   ],
   "source": [
    "# Get unique counts of gender column\n",
    "print(aug_train['gender'].value_counts(), '\\n')\n",
    "# Get unique items in enrolled_university column\n",
    "print(aug_train['enrolled_university'].value_counts(), '\\n')\n",
    "# Get unique items in education_level column\n",
    "print(aug_train['education_level'].value_counts(), '\\n')\n",
    "# Get unique items in major_discipline column\n",
    "print(aug_train['major_discipline'].value_counts(), '\\n')\n",
    "# Get unique items in experience column\n",
    "print(aug_train['experience'].value_counts(), '\\n')\n",
    "# Get unique items in company_size column\n",
    "print(aug_train['company_size'].value_counts(), '\\n')\n",
    "# Get unique items in company_type column\n",
    "print(aug_train['company_type'].value_counts(), '\\n')\n",
    "# Get unique items in last_new_job column\n",
    "print(aug_train['last_new_job'].value_counts())"
   ]
  },
  {
   "cell_type": "code",
   "execution_count": 26,
   "metadata": {},
   "outputs": [
    {
     "name": "stdout",
     "output_type": "stream",
     "text": [
      "(13178, 14)\n",
      "enrollee_id                  0\n",
      "city                         0\n",
      "city_development_index       0\n",
      "gender                    2852\n",
      "relevent_experience          0\n",
      "enrolled_university          0\n",
      "education_level              0\n",
      "major_discipline             0\n",
      "experience                   0\n",
      "company_size                 0\n",
      "company_type               764\n",
      "last_new_job               201\n",
      "training_hours               0\n",
      "target                       0\n",
      "dtype: int64\n"
     ]
    }
   ],
   "source": [
    "# create a data frame that will be cleaned missing values\n",
    "cleaned_df = aug_train.copy()\n",
    "\n",
    "# Impute missing values of Gender column using XXXXXXX\n",
    "\n",
    "# Impute missing of enrolled_university column using mode\n",
    "cleaned_df['enrolled_university'].fillna(cleaned_df['enrolled_university'].mode()[0], inplace=True)\n",
    "# impute the missing values of education_level column using mode\n",
    "cleaned_df['education_level'].fillna(cleaned_df['education_level'].mode()[0], inplace=True)\n",
    "# impute the missing values of major_discipline column using mode\n",
    "cleaned_df['major_discipline'].fillna(cleaned_df['major_discipline'].mode()[0], inplace=True)\n",
    "# Drop the missing values of experience column\n",
    "cleaned_df.dropna(subset=['experience'], inplace=True)\n",
    "# impute the missing values of company_size column using XXXXXXXXX\n",
    "cleaned_df.dropna(subset=['company_size'], inplace=True)\n",
    "# impute the missing values of company_type column using XXXXXXXXX\n",
    "\n",
    "# Drop the missing values of last_new_job column\n",
    "\n",
    "\n",
    "# Get the shape of the cleaned data frame\n",
    "print(cleaned_df.shape)\n",
    "print(cleaned_df.isnull().sum())\n"
   ]
  },
  {
   "cell_type": "code",
   "execution_count": 9,
   "metadata": {},
   "outputs": [
    {
     "name": "stdout",
     "output_type": "stream",
     "text": [
      "(8955, 14)\n",
      "enrollee_id               0\n",
      "city                      0\n",
      "city_development_index    0\n",
      "gender                    0\n",
      "relevent_experience       0\n",
      "enrolled_university       0\n",
      "education_level           0\n",
      "major_discipline          0\n",
      "experience                0\n",
      "company_size              0\n",
      "company_type              0\n",
      "last_new_job              0\n",
      "training_hours            0\n",
      "target                    0\n",
      "dtype: int64\n"
     ]
    }
   ],
   "source": [
    "# Dropping the missing values and creating a new data frame\n",
    "aug_train_dropped = aug_train.dropna()\n",
    "print(aug_train_dropped.shape)\n",
    "print(aug_train_dropped.isnull().sum())"
   ]
  },
  {
   "cell_type": "code",
   "execution_count": null,
   "metadata": {},
   "outputs": [],
   "source": []
  }
 ],
 "metadata": {
  "kernelspec": {
   "display_name": "ads502",
   "language": "python",
   "name": "python3"
  },
  "language_info": {
   "codemirror_mode": {
    "name": "ipython",
    "version": 3
   },
   "file_extension": ".py",
   "mimetype": "text/x-python",
   "name": "python",
   "nbconvert_exporter": "python",
   "pygments_lexer": "ipython3",
   "version": "3.10.12"
  }
 },
 "nbformat": 4,
 "nbformat_minor": 2
}
